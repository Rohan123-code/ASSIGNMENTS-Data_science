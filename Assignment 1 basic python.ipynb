{
 "cells": [
  {
   "cell_type": "code",
   "execution_count": null,
   "metadata": {},
   "outputs": [],
   "source": [
    "1.\n",
    "    *      ---- Expression\n",
    "    'hello'---  Value\n",
    "    -87.8 ----  Value\n",
    "    -     ----- Expression\n",
    "    /     ----- Expression\n",
    "    +     ----- Expression\n",
    "    6     ----- value\n",
    "    \n",
    "2.\n",
    "    The difference between a string and variable is basically the inverted commas in Python.\n",
    "    If a integer value is written within inverted commas then it is a string and string is basically any character array within inverted commas.\n",
    "\n",
    "3.\n",
    "    The three data types are\n",
    "        a)int --- Used for any integer values.\n",
    "        b)Float ---- Used for any decimal values.\n",
    "        c)String ----Used for character array.\n",
    "4. \n",
    "        Expression is made up of values,variables and operators.\n",
    "        Expressions yields to some value.\n",
    "5.      Expression yields to some value while statements represent an action or command.\n",
    "\n",
    "#6. \n",
    "bacon = 22\n",
    "bacon + 1\n",
    "bacon\n",
    "#variable bacon contains 22 after running of this code.\n",
    "\n",
    "#7.\n",
    "'spam'+'spamspam'\n",
    "#7\n",
    "'spam' * 3\n",
    "\n",
    "8.\n",
    "    eggs is a valid variable as it is following the variable nomenclature of starting tge variable name with an alphabet but 100 is starting with a digit,so it is violating the nomenclature for naming the variables.\n",
    "9.\n",
    "\n",
    "For integer --- int()\n",
    "For float -----float()\n",
    "For string -----str()\n",
    "\n",
    "\n",
    "10.\n",
    "    The expression 'I have eaten' + 99 + 'burritos' have caused an error because they are of different datatypes.\n",
    "    String + integer concatination is not possible.\n",
    "    So,to fix it we have to typecast the integer value to string and then it will work"
   ]
  }
 ],
 "metadata": {
  "kernelspec": {
   "display_name": "Python 3",
   "language": "python",
   "name": "python3"
  },
  "language_info": {
   "codemirror_mode": {
    "name": "ipython",
    "version": 3
   },
   "file_extension": ".py",
   "mimetype": "text/x-python",
   "name": "python",
   "nbconvert_exporter": "python",
   "pygments_lexer": "ipython3",
   "version": "3.8.5"
  }
 },
 "nbformat": 4,
 "nbformat_minor": 4
}
